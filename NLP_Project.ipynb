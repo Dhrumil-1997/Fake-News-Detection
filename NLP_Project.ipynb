{
  "nbformat": 4,
  "nbformat_minor": 0,
  "metadata": {
    "colab": {
      "name": "NLP_Project.ipynb",
      "provenance": [],
      "collapsed_sections": []
    },
    "kernelspec": {
      "name": "python3",
      "display_name": "Python 3"
    },
    "language_info": {
      "name": "python"
    }
  },
  "cells": [
    {
      "cell_type": "markdown",
      "metadata": {
        "id": "2m8AGjdyTofu"
      },
      "source": [
        "**Mount gdrive**"
      ]
    },
    {
      "cell_type": "code",
      "metadata": {
        "id": "nq05zY4FRcp-",
        "colab": {
          "base_uri": "https://localhost:8080/"
        },
        "outputId": "b7aa6fd3-9086-436c-d710-686959d08e35"
      },
      "source": [
        "#Mount drive to access files in gdrive\n",
        "from google.colab import drive\n",
        "drive.mount('/content/gdrive', force_remount=True)"
      ],
      "execution_count": 5,
      "outputs": [
        {
          "output_type": "stream",
          "text": [
            "Mounted at /content/gdrive\n"
          ],
          "name": "stdout"
        }
      ]
    },
    {
      "cell_type": "markdown",
      "metadata": {
        "id": "LZwuNr9tTJsT"
      },
      "source": [
        " **Introduction**\n",
        "\n",
        "In the following analysis, we will talk about how one can create an NLP to detect whether the news is real or fake. Nowadays, fake news has become a common trend. Even trusted media houses are known to spread fake news and are losing their credibility. So, how can we trust any news to be real or fake?\n",
        "\n",
        "Dataset - \n",
        "\n",
        "1. train.csv: A full training dataset with the following attributes:\n",
        "\n",
        "2. id: unique id for a news article.\n",
        "\n",
        "3. title: the title of a news article.\n",
        "\n",
        "4. author: author of the news article.\n",
        "\n",
        "5. text: the text of the article; could be incomplete.\n",
        "\n",
        "6. label: a label that marks the article as potentially unreliable. \n",
        "\n",
        "Where 1: unreliable and 0: reliable."
      ]
    },
    {
      "cell_type": "markdown",
      "metadata": {
        "id": "C0cT_LBvThD7"
      },
      "source": [
        "**Importing Libraries**"
      ]
    },
    {
      "cell_type": "code",
      "metadata": {
        "id": "3NxE2ONcSeyz"
      },
      "source": [
        "# Modelling Algorithms\n",
        "from sklearn.naive_bayes import MultinomialNB\n",
        "from sklearn.linear_model import LogisticRegression\n",
        "from sklearn.linear_model import PassiveAggressiveClassifier\n",
        "\n",
        "# Modelling Helpers\n",
        "from sklearn.model_selection import train_test_split\n",
        "from sklearn.feature_extraction.text import TfidfVectorizer\n",
        "from sklearn.feature_extraction.text import CountVectorizer\n",
        "from sklearn import metrics\n",
        "from sklearn.metrics import classification_report, accuracy_score\n",
        "\n",
        "# Computations\n",
        "import itertools\n",
        "\n",
        "# Visualization\n",
        "import matplotlib.pyplot as plt\n",
        "import pandas as pd\n",
        "import numpy as np\n",
        "import seaborn as sns"
      ],
      "execution_count": 6,
      "outputs": []
    },
    {
      "cell_type": "markdown",
      "metadata": {
        "id": "jVsdmXI-Tm9e"
      },
      "source": [
        "**Loadinng Dataset**"
      ]
    },
    {
      "cell_type": "code",
      "metadata": {
        "id": "21r1UsIhUE-j"
      },
      "source": [
        "train = pd.read_csv(\"/content/gdrive/MyDrive/NLP_Project/fake-news/train.csv\")\n",
        "test  = pd.read_csv (\"/content/gdrive/MyDrive/NLP_Project/fake-news/test.csv\")\n",
        "submit  = pd.read_csv (\"/content/gdrive/MyDrive/NLP_Project/fake-news/submit.csv\")"
      ],
      "execution_count": 7,
      "outputs": []
    },
    {
      "cell_type": "code",
      "metadata": {
        "id": "_RLhMXqvUW5C",
        "colab": {
          "base_uri": "https://localhost:8080/",
          "height": 204
        },
        "outputId": "189595e9-fb86-4811-884d-eef7d5d4f5c5"
      },
      "source": [
        "train.head()"
      ],
      "execution_count": 8,
      "outputs": [
        {
          "output_type": "execute_result",
          "data": {
            "text/html": [
              "<div>\n",
              "<style scoped>\n",
              "    .dataframe tbody tr th:only-of-type {\n",
              "        vertical-align: middle;\n",
              "    }\n",
              "\n",
              "    .dataframe tbody tr th {\n",
              "        vertical-align: top;\n",
              "    }\n",
              "\n",
              "    .dataframe thead th {\n",
              "        text-align: right;\n",
              "    }\n",
              "</style>\n",
              "<table border=\"1\" class=\"dataframe\">\n",
              "  <thead>\n",
              "    <tr style=\"text-align: right;\">\n",
              "      <th></th>\n",
              "      <th>id</th>\n",
              "      <th>title</th>\n",
              "      <th>author</th>\n",
              "      <th>text</th>\n",
              "      <th>label</th>\n",
              "    </tr>\n",
              "  </thead>\n",
              "  <tbody>\n",
              "    <tr>\n",
              "      <th>0</th>\n",
              "      <td>0</td>\n",
              "      <td>House Dem Aide: We Didn’t Even See Comey’s Let...</td>\n",
              "      <td>Darrell Lucus</td>\n",
              "      <td>House Dem Aide: We Didn’t Even See Comey’s Let...</td>\n",
              "      <td>1</td>\n",
              "    </tr>\n",
              "    <tr>\n",
              "      <th>1</th>\n",
              "      <td>1</td>\n",
              "      <td>FLYNN: Hillary Clinton, Big Woman on Campus - ...</td>\n",
              "      <td>Daniel J. Flynn</td>\n",
              "      <td>Ever get the feeling your life circles the rou...</td>\n",
              "      <td>0</td>\n",
              "    </tr>\n",
              "    <tr>\n",
              "      <th>2</th>\n",
              "      <td>2</td>\n",
              "      <td>Why the Truth Might Get You Fired</td>\n",
              "      <td>Consortiumnews.com</td>\n",
              "      <td>Why the Truth Might Get You Fired October 29, ...</td>\n",
              "      <td>1</td>\n",
              "    </tr>\n",
              "    <tr>\n",
              "      <th>3</th>\n",
              "      <td>3</td>\n",
              "      <td>15 Civilians Killed In Single US Airstrike Hav...</td>\n",
              "      <td>Jessica Purkiss</td>\n",
              "      <td>Videos 15 Civilians Killed In Single US Airstr...</td>\n",
              "      <td>1</td>\n",
              "    </tr>\n",
              "    <tr>\n",
              "      <th>4</th>\n",
              "      <td>4</td>\n",
              "      <td>Iranian woman jailed for fictional unpublished...</td>\n",
              "      <td>Howard Portnoy</td>\n",
              "      <td>Print \\nAn Iranian woman has been sentenced to...</td>\n",
              "      <td>1</td>\n",
              "    </tr>\n",
              "  </tbody>\n",
              "</table>\n",
              "</div>"
            ],
            "text/plain": [
              "   id  ... label\n",
              "0   0  ...     1\n",
              "1   1  ...     0\n",
              "2   2  ...     1\n",
              "3   3  ...     1\n",
              "4   4  ...     1\n",
              "\n",
              "[5 rows x 5 columns]"
            ]
          },
          "metadata": {
            "tags": []
          },
          "execution_count": 8
        }
      ]
    },
    {
      "cell_type": "code",
      "metadata": {
        "id": "0FqAoPdgUk6T",
        "colab": {
          "base_uri": "https://localhost:8080/"
        },
        "outputId": "7f363aaf-d475-455d-f134-44924779392f"
      },
      "source": [
        "print(f\"Train Shape : {train.shape}\")\n",
        "print(f\"Test Shape : {test.shape}\")\n",
        "print(f\"Submit Shape : {submit.shape}\")"
      ],
      "execution_count": 9,
      "outputs": [
        {
          "output_type": "stream",
          "text": [
            "Train Shape : (20800, 5)\n",
            "Test Shape : (5200, 4)\n",
            "Submit Shape : (5200, 2)\n"
          ],
          "name": "stdout"
        }
      ]
    },
    {
      "cell_type": "markdown",
      "metadata": {
        "id": "-pHsw-yzUt7A"
      },
      "source": [
        "**Data Preprocessing**"
      ]
    },
    {
      "cell_type": "code",
      "metadata": {
        "id": "V0iEd9HJUqgB",
        "colab": {
          "base_uri": "https://localhost:8080/"
        },
        "outputId": "1088f818-2719-4011-9a90-f1aa3c167053"
      },
      "source": [
        "train.info()"
      ],
      "execution_count": 10,
      "outputs": [
        {
          "output_type": "stream",
          "text": [
            "<class 'pandas.core.frame.DataFrame'>\n",
            "RangeIndex: 20800 entries, 0 to 20799\n",
            "Data columns (total 5 columns):\n",
            " #   Column  Non-Null Count  Dtype \n",
            "---  ------  --------------  ----- \n",
            " 0   id      20800 non-null  int64 \n",
            " 1   title   20242 non-null  object\n",
            " 2   author  18843 non-null  object\n",
            " 3   text    20761 non-null  object\n",
            " 4   label   20800 non-null  int64 \n",
            "dtypes: int64(2), object(3)\n",
            "memory usage: 812.6+ KB\n"
          ],
          "name": "stdout"
        }
      ]
    },
    {
      "cell_type": "code",
      "metadata": {
        "id": "EGXsku4CVuF9",
        "colab": {
          "base_uri": "https://localhost:8080/"
        },
        "outputId": "bfdc8ec6-78a7-423d-d142-06b84b22de2c"
      },
      "source": [
        "train.isnull().sum()"
      ],
      "execution_count": 11,
      "outputs": [
        {
          "output_type": "execute_result",
          "data": {
            "text/plain": [
              "id           0\n",
              "title      558\n",
              "author    1957\n",
              "text        39\n",
              "label        0\n",
              "dtype: int64"
            ]
          },
          "metadata": {
            "tags": []
          },
          "execution_count": 11
        }
      ]
    },
    {
      "cell_type": "code",
      "metadata": {
        "id": "zR8Kz4pzV6Jy",
        "colab": {
          "base_uri": "https://localhost:8080/"
        },
        "outputId": "cc1541fc-7676-4fcc-f0a3-5d8d88a96c90"
      },
      "source": [
        "train.isnull().sum()"
      ],
      "execution_count": 12,
      "outputs": [
        {
          "output_type": "execute_result",
          "data": {
            "text/plain": [
              "id           0\n",
              "title      558\n",
              "author    1957\n",
              "text        39\n",
              "label        0\n",
              "dtype: int64"
            ]
          },
          "metadata": {
            "tags": []
          },
          "execution_count": 12
        }
      ]
    },
    {
      "cell_type": "code",
      "metadata": {
        "id": "zeFb7pryWLdd",
        "colab": {
          "base_uri": "https://localhost:8080/"
        },
        "outputId": "93187c8e-5b28-41a0-eee6-0452bf442454"
      },
      "source": [
        "#DROPPING NULL VALUES\n",
        "\n",
        "train = train.dropna()\n",
        "train.isnull().sum()"
      ],
      "execution_count": 13,
      "outputs": [
        {
          "output_type": "execute_result",
          "data": {
            "text/plain": [
              "id        0\n",
              "title     0\n",
              "author    0\n",
              "text      0\n",
              "label     0\n",
              "dtype: int64"
            ]
          },
          "metadata": {
            "tags": []
          },
          "execution_count": 13
        }
      ]
    },
    {
      "cell_type": "code",
      "metadata": {
        "id": "g1ZwhnUCWVur",
        "colab": {
          "base_uri": "https://localhost:8080/"
        },
        "outputId": "750c2f9a-c521-4bab-95b1-8232eb97189b"
      },
      "source": [
        "train.dtypes.value_counts()"
      ],
      "execution_count": 14,
      "outputs": [
        {
          "output_type": "execute_result",
          "data": {
            "text/plain": [
              "object    3\n",
              "int64     2\n",
              "dtype: int64"
            ]
          },
          "metadata": {
            "tags": []
          },
          "execution_count": 14
        }
      ]
    },
    {
      "cell_type": "markdown",
      "metadata": {
        "id": "GOgWN00WXU1a"
      },
      "source": [
        "If model is trained on a concatenation of the title, the author and the main text, the model would be more generalized because adding more words to the input might increase the reliablity of the model."
      ]
    },
    {
      "cell_type": "code",
      "metadata": {
        "id": "7FQfot4hXUFw",
        "colab": {
          "base_uri": "https://localhost:8080/",
          "height": 435
        },
        "outputId": "16cff373-14b6-4e92-99c3-498a8a6bd5a4"
      },
      "source": [
        "test=test.fillna(' ')\n",
        "train=train.fillna(' ')\n",
        "\n",
        "# Create a column with all the data available\n",
        "test['total']=test['title']+' '+test['author']+' '+test['text']\n",
        "train['total']=train['title']+' '+train['author']+' '+train['text']\n",
        "\n",
        "# Have a glance at our training set\n",
        "train.info()\n",
        "train.head()"
      ],
      "execution_count": 15,
      "outputs": [
        {
          "output_type": "stream",
          "text": [
            "<class 'pandas.core.frame.DataFrame'>\n",
            "Int64Index: 18285 entries, 0 to 20799\n",
            "Data columns (total 6 columns):\n",
            " #   Column  Non-Null Count  Dtype \n",
            "---  ------  --------------  ----- \n",
            " 0   id      18285 non-null  int64 \n",
            " 1   title   18285 non-null  object\n",
            " 2   author  18285 non-null  object\n",
            " 3   text    18285 non-null  object\n",
            " 4   label   18285 non-null  int64 \n",
            " 5   total   18285 non-null  object\n",
            "dtypes: int64(2), object(4)\n",
            "memory usage: 1000.0+ KB\n"
          ],
          "name": "stdout"
        },
        {
          "output_type": "execute_result",
          "data": {
            "text/html": [
              "<div>\n",
              "<style scoped>\n",
              "    .dataframe tbody tr th:only-of-type {\n",
              "        vertical-align: middle;\n",
              "    }\n",
              "\n",
              "    .dataframe tbody tr th {\n",
              "        vertical-align: top;\n",
              "    }\n",
              "\n",
              "    .dataframe thead th {\n",
              "        text-align: right;\n",
              "    }\n",
              "</style>\n",
              "<table border=\"1\" class=\"dataframe\">\n",
              "  <thead>\n",
              "    <tr style=\"text-align: right;\">\n",
              "      <th></th>\n",
              "      <th>id</th>\n",
              "      <th>title</th>\n",
              "      <th>author</th>\n",
              "      <th>text</th>\n",
              "      <th>label</th>\n",
              "      <th>total</th>\n",
              "    </tr>\n",
              "  </thead>\n",
              "  <tbody>\n",
              "    <tr>\n",
              "      <th>0</th>\n",
              "      <td>0</td>\n",
              "      <td>House Dem Aide: We Didn’t Even See Comey’s Let...</td>\n",
              "      <td>Darrell Lucus</td>\n",
              "      <td>House Dem Aide: We Didn’t Even See Comey’s Let...</td>\n",
              "      <td>1</td>\n",
              "      <td>House Dem Aide: We Didn’t Even See Comey’s Let...</td>\n",
              "    </tr>\n",
              "    <tr>\n",
              "      <th>1</th>\n",
              "      <td>1</td>\n",
              "      <td>FLYNN: Hillary Clinton, Big Woman on Campus - ...</td>\n",
              "      <td>Daniel J. Flynn</td>\n",
              "      <td>Ever get the feeling your life circles the rou...</td>\n",
              "      <td>0</td>\n",
              "      <td>FLYNN: Hillary Clinton, Big Woman on Campus - ...</td>\n",
              "    </tr>\n",
              "    <tr>\n",
              "      <th>2</th>\n",
              "      <td>2</td>\n",
              "      <td>Why the Truth Might Get You Fired</td>\n",
              "      <td>Consortiumnews.com</td>\n",
              "      <td>Why the Truth Might Get You Fired October 29, ...</td>\n",
              "      <td>1</td>\n",
              "      <td>Why the Truth Might Get You Fired Consortiumne...</td>\n",
              "    </tr>\n",
              "    <tr>\n",
              "      <th>3</th>\n",
              "      <td>3</td>\n",
              "      <td>15 Civilians Killed In Single US Airstrike Hav...</td>\n",
              "      <td>Jessica Purkiss</td>\n",
              "      <td>Videos 15 Civilians Killed In Single US Airstr...</td>\n",
              "      <td>1</td>\n",
              "      <td>15 Civilians Killed In Single US Airstrike Hav...</td>\n",
              "    </tr>\n",
              "    <tr>\n",
              "      <th>4</th>\n",
              "      <td>4</td>\n",
              "      <td>Iranian woman jailed for fictional unpublished...</td>\n",
              "      <td>Howard Portnoy</td>\n",
              "      <td>Print \\nAn Iranian woman has been sentenced to...</td>\n",
              "      <td>1</td>\n",
              "      <td>Iranian woman jailed for fictional unpublished...</td>\n",
              "    </tr>\n",
              "  </tbody>\n",
              "</table>\n",
              "</div>"
            ],
            "text/plain": [
              "   id  ...                                              total\n",
              "0   0  ...  House Dem Aide: We Didn’t Even See Comey’s Let...\n",
              "1   1  ...  FLYNN: Hillary Clinton, Big Woman on Campus - ...\n",
              "2   2  ...  Why the Truth Might Get You Fired Consortiumne...\n",
              "3   3  ...  15 Civilians Killed In Single US Airstrike Hav...\n",
              "4   4  ...  Iranian woman jailed for fictional unpublished...\n",
              "\n",
              "[5 rows x 6 columns]"
            ]
          },
          "metadata": {
            "tags": []
          },
          "execution_count": 15
        }
      ]
    },
    {
      "cell_type": "code",
      "metadata": {
        "id": "9FO9gH2FkbsW",
        "colab": {
          "base_uri": "https://localhost:8080/",
          "height": 297
        },
        "outputId": "b4c536ba-495a-4ac5-c187-dea19fcc4aed"
      },
      "source": [
        "#checking number of real and fake news\n",
        "sns.countplot(x = 'label',data = train)"
      ],
      "execution_count": 16,
      "outputs": [
        {
          "output_type": "execute_result",
          "data": {
            "text/plain": [
              "<matplotlib.axes._subplots.AxesSubplot at 0x7f435f4a60d0>"
            ]
          },
          "metadata": {
            "tags": []
          },
          "execution_count": 16
        },
        {
          "output_type": "display_data",
          "data": {
            "image/png": "[encoded data removed]",
            "text/plain": [
              "<Figure size 432x288 with 1 Axes>"
            ]
          },
          "metadata": {
            "tags": [],
            "needs_background": "light"
          }
        }
      ]
    },
    {
      "cell_type": "markdown",
      "metadata": {
        "id": "HunnkxR0ksbJ"
      },
      "source": [
        "ALMOST 10000 ARE RELIABLE(0) AND 8000 ARE UNRELIABLE(1)"
      ]
    },
    {
      "cell_type": "code",
      "metadata": {
        "id": "AhxhfjJ6W78G"
      },
      "source": [
        "# Dividing the training set by using train_test_split\n",
        "\n",
        "X_train, X_test, y_train, y_test = train_test_split(train['total'], train.label, test_size=0.20, random_state=0)"
      ],
      "execution_count": 17,
      "outputs": []
    },
    {
      "cell_type": "markdown",
      "metadata": {
        "id": "0VTvwm08Xn3g"
      },
      "source": [
        "**Vectorizing our Data**\n",
        "\n",
        "The next step is the feature engineering step. In this step, raw text data will be transformed into feature vectors and new features will be created using the existing dataset. We will implement the following different ideas in order to obtain relevant features from our dataset.\n",
        "\n",
        "\n",
        "1.   Count Vectors as features\n",
        "\n",
        "2.   TF-IDF Vectors as features\n",
        "\n",
        "     > Word level\n",
        "\n",
        "     > Ngram level\n",
        "\n",
        "     > Character level\n",
        "\n",
        "\n",
        "\n",
        "\n",
        "\n"
      ]
    },
    {
      "cell_type": "markdown",
      "metadata": {
        "id": "Ah2BFjwwX0sK"
      },
      "source": [
        "**1. Count Vectorizer**\n",
        "\n",
        "CountVectorizer is used to convert a collection of text documents to a vector of term/token counts. It also enables the ​pre-processing of text data prior to generating the vector representation. This functionality makes it a highly flexible feature representation module for text."
      ]
    },
    {
      "cell_type": "code",
      "metadata": {
        "id": "1pT8ruqKXc4l"
      },
      "source": [
        "# Initialize the `count_vectorizer` \n",
        "count_vectorizer = CountVectorizer(ngram_range=(1, 2), stop_words='english') \n",
        "# Fit and transform the training data.\n",
        "count_train = count_vectorizer.fit_transform(X_train)\n",
        "# Transform the test set \n",
        "count_test = count_vectorizer.transform(X_test)"
      ],
      "execution_count": 18,
      "outputs": []
    },
    {
      "cell_type": "markdown",
      "metadata": {
        "id": "jqV64w8eYD9p"
      },
      "source": [
        "**2. Tf-IDF Vectorizer**\n",
        "\n",
        "TF-IDF score represents the relative importance of a term in the document and the entire corpus. TF-IDF score is composed by two terms: the first computes the normalized Term Frequency (TF), the second term is the Inverse Document Frequency (IDF), computed as the logarithm of the number of the documents in the corpus divided by the number of documents where the specific term appears.\n",
        "\n",
        "**TF(t) = (Number of times term t appears in a document) / (Total number of terms in the document)**\n",
        "\n",
        "**IDF(t) = log_e(Total number of documents / Number of documents with term t in it)**\n",
        "\n",
        "**TF-IDF Vectors can be generated at different levels of input tokens (words, characters, n-grams)**\n",
        "\n",
        "> a. Word Level TF-IDF : Matrix representing tf-idf scores of every term in different documents\n",
        "\n",
        "> b. N-gram Level TF-IDF : N-grams are the combination of N terms together. This Matrix representing tf-idf scores of N-grams\n",
        "\n",
        "> c. Character Level TF-IDF : Matrix representing tf-idf scores of character level n-grams in the corpus\n",
        "\n",
        "Here, For my dataset Character level TF-IDF is not suitable so we are using N-gram level with range (1,2) as unigram and bigram and because of that their is no need to use word level also.\n",
        "\n"
      ]
    },
    {
      "cell_type": "code",
      "metadata": {
        "id": "-xlXN4X2X8vy"
      },
      "source": [
        "#Initialize the `tfidf_vectorizer` \n",
        "tfidf_vectorizer = TfidfVectorizer(stop_words='english', ngram_range=(1, 2))\n",
        "#Fit and transform the training data \n",
        "tfidf_train = tfidf_vectorizer.fit_transform(X_train)\n",
        "#Transform the test set \n",
        "tfidf_test = tfidf_vectorizer.transform(X_test)"
      ],
      "execution_count": 16,
      "outputs": []
    },
    {
      "cell_type": "markdown",
      "metadata": {
        "id": "T2fvpKRkYghc"
      },
      "source": [
        "**First NLP Model** \n",
        "\n",
        "*   **Multinomial Naive Bayes with Count Vectorizer (BagofWords)**\n",
        "\n"
      ]
    },
    {
      "cell_type": "code",
      "metadata": {
        "id": "HJ09kiIcYbAu",
        "colab": {
          "base_uri": "https://localhost:8080/"
        },
        "outputId": "1a411964-d043-4d6a-cd3c-a5aca97c7828"
      },
      "source": [
        "nb_classifier = MultinomialNB(alpha = 0.1)\n",
        "nb_classifier.fit(count_train, y_train)\n",
        "pred_nb_count = nb_classifier.predict(count_test)\n",
        "acc_nb_count = metrics.accuracy_score(y_test, pred_nb_count)\n",
        "\n",
        "print(\"Multinomial Naive Bayes with Count Vectorizer : \" ,acc_nb_count)\n",
        "print(f\"Classification Report : \\n\\n{classification_report(y_test, pred_nb_count)}\")"
      ],
      "execution_count": 17,
      "outputs": [
        {
          "output_type": "stream",
          "text": [
            "Multinomial Naive Bayes with Count Vectorizer :  0.954334153677878\n",
            "Classification Report : \n",
            "\n",
            "              precision    recall  f1-score   support\n",
            "\n",
            "           0       0.93      0.99      0.96      2040\n",
            "           1       0.99      0.90      0.95      1617\n",
            "\n",
            "    accuracy                           0.95      3657\n",
            "   macro avg       0.96      0.95      0.95      3657\n",
            "weighted avg       0.96      0.95      0.95      3657\n",
            "\n"
          ],
          "name": "stdout"
        }
      ]
    },
    {
      "cell_type": "code",
      "metadata": {
        "id": "7lm-r0f_Yzif",
        "colab": {
          "base_uri": "https://localhost:8080/"
        },
        "outputId": "72f037d3-206c-4023-ff2b-b5accd9b0008"
      },
      "source": [
        "# tune the hyperparameter alpha for the naive bayes classifier\n",
        "\n",
        "for alpha in np.arange(0,1,.05):\n",
        "    nb_classifier_tune = MultinomialNB(alpha=alpha)\n",
        "    nb_classifier_tune.fit(count_train, y_train)\n",
        "    pred_tune = nb_classifier_tune.predict(count_test)\n",
        "    score = metrics.accuracy_score(y_test, pred_tune)\n",
        "    print(\"Alpha: {:.2f} Score: {:.5f}\".format(alpha, score))"
      ],
      "execution_count": 18,
      "outputs": [
        {
          "output_type": "stream",
          "text": [
            "/usr/local/lib/python3.7/dist-packages/sklearn/naive_bayes.py:507: UserWarning: alpha too small will result in numeric errors, setting alpha = 1.0e-10\n",
            "  'setting alpha = %.1e' % _ALPHA_MIN)\n"
          ],
          "name": "stderr"
        },
        {
          "output_type": "stream",
          "text": [
            "Alpha: 0.00 Score: 0.91222\n",
            "Alpha: 0.05 Score: 0.95051\n",
            "Alpha: 0.10 Score: 0.95433\n",
            "Alpha: 0.15 Score: 0.95433\n",
            "Alpha: 0.20 Score: 0.95324\n",
            "Alpha: 0.25 Score: 0.95160\n",
            "Alpha: 0.30 Score: 0.95078\n",
            "Alpha: 0.35 Score: 0.94996\n",
            "Alpha: 0.40 Score: 0.94859\n",
            "Alpha: 0.45 Score: 0.94750\n",
            "Alpha: 0.50 Score: 0.94476\n",
            "Alpha: 0.55 Score: 0.94367\n",
            "Alpha: 0.60 Score: 0.94203\n",
            "Alpha: 0.65 Score: 0.94011\n",
            "Alpha: 0.70 Score: 0.93820\n",
            "Alpha: 0.75 Score: 0.93683\n",
            "Alpha: 0.80 Score: 0.93465\n",
            "Alpha: 0.85 Score: 0.93246\n",
            "Alpha: 0.90 Score: 0.93164\n",
            "Alpha: 0.95 Score: 0.92972\n"
          ],
          "name": "stdout"
        }
      ]
    },
    {
      "cell_type": "markdown",
      "metadata": {
        "id": "bJXdxMEcZRyN"
      },
      "source": [
        "The best score is obtained for alpha = 0.10, and is equal to 0.95844."
      ]
    },
    {
      "cell_type": "code",
      "metadata": {
        "id": "aGOI9CZyZBxt",
        "colab": {
          "base_uri": "https://localhost:8080/",
          "height": 311
        },
        "outputId": "1c421971-d88b-4333-b0a8-f47938587a12"
      },
      "source": [
        "# Let's re-run our fine-tuned model and plot the confusion matrix\n",
        "\n",
        "nb_classifier = MultinomialNB(alpha = 0.20)\n",
        "nb_classifier.fit(count_train, y_train)\n",
        "pred_nb_count = nb_classifier.predict(count_test)\n",
        "cm = metrics.confusion_matrix(y_test, pred_nb_count, labels=[0,1])\n",
        "\n",
        "# Creating a function that outputs a confusion matrix\n",
        "def plot_confusion_matrix(cm, classes,\n",
        "                          normalize=False,\n",
        "                          title='Confusion matrix',\n",
        "                          cmap=plt.cm.Blues):\n",
        "    \n",
        "    plt.imshow(cm, interpolation='nearest', cmap=cmap)\n",
        "    plt.title(title)\n",
        "    plt.colorbar()\n",
        "    tick_marks = np.arange(len(classes))\n",
        "    plt.xticks(tick_marks, classes, rotation=45)\n",
        "    plt.yticks(tick_marks, classes)\n",
        "    thresh = cm.max() / 2.\n",
        "    for i, j in itertools.product(range(cm.shape[0]), range(cm.shape[1])):\n",
        "        plt.text(j, i, cm[i, j],\n",
        "                 horizontalalignment=\"center\",\n",
        "                 color=\"white\" if cm[i, j] > thresh else \"black\")\n",
        "\n",
        "    plt.tight_layout()\n",
        "    plt.ylabel('True label')\n",
        "    plt.xlabel('Predicted label')\n",
        "    \n",
        "    \n",
        "plot_confusion_matrix(cm, classes=['TRUE','FAKE'], title ='Confusion matrix for a MultinomialNB with Count Vectorizer')"
      ],
      "execution_count": 36,
      "outputs": [
        {
          "output_type": "display_data",
          "data": {
            "image/png": "[encoded data removed]",
            "text/plain": [
              "<Figure size 432x288 with 2 Axes>"
            ]
          },
          "metadata": {
            "tags": [],
            "needs_background": "light"
          }
        }
      ]
    },
    {
      "cell_type": "markdown",
      "metadata": {
        "id": "BUmZg51FaKM6"
      },
      "source": [
        "We see that although our model has a general accuracy of 89.58 %, which is good, but it does not really score well in view of number of false negative. 287 fake news are classified as true news with this model, which is not pleasing to see. So we will try to use the Tf-IDF vectorizer on this same model to see if it performs better."
      ]
    },
    {
      "cell_type": "markdown",
      "metadata": {
        "id": "TC2ileFZabFa"
      },
      "source": [
        "*   **Multinomial Naive Bayes with TF-IDF Vectorizer**\n",
        "\n"
      ]
    },
    {
      "cell_type": "code",
      "metadata": {
        "id": "PSjj4U9uZxO6",
        "colab": {
          "base_uri": "https://localhost:8080/"
        },
        "outputId": "5679fa68-94f1-4741-85bf-984bc04ce553"
      },
      "source": [
        "nb_classifier = MultinomialNB(alpha = 0.01)\n",
        "nb_classifier.fit(tfidf_train, y_train)\n",
        "pred_nb_tfidf = nb_classifier.predict(tfidf_test)\n",
        "acc_nb_tfidf = metrics.accuracy_score(y_test, pred_nb_tfidf)\n",
        "print(\"Multinomial Naive Bayes with TF-IDF : \" ,acc_nb_tfidf)"
      ],
      "execution_count": 20,
      "outputs": [
        {
          "output_type": "stream",
          "text": [
            "Multinomial Naive Bayes with TF-IDF :  0.9491386382280558\n"
          ],
          "name": "stdout"
        }
      ]
    },
    {
      "cell_type": "code",
      "metadata": {
        "id": "ccbe7Mu3af4j",
        "colab": {
          "base_uri": "https://localhost:8080/"
        },
        "outputId": "b082338a-8276-402d-bf4d-8153f839b2b8"
      },
      "source": [
        "# tune the hyperparameter alpha for the naive bayes classifier\n",
        "\n",
        "for alpha in np.arange(0,0.1,.01):\n",
        "    nb_classifier_tune = MultinomialNB(alpha=alpha)\n",
        "    nb_classifier_tune.fit(tfidf_train, y_train)\n",
        "    pred_tune = nb_classifier_tune.predict(tfidf_test)\n",
        "    score = metrics.accuracy_score(y_test, pred_tune)\n",
        "    print(\"Alpha: {:.2f}  Score: {:.5f}\".format(alpha, score))"
      ],
      "execution_count": 21,
      "outputs": [
        {
          "output_type": "stream",
          "text": [
            "/usr/local/lib/python3.7/dist-packages/sklearn/naive_bayes.py:507: UserWarning: alpha too small will result in numeric errors, setting alpha = 1.0e-10\n",
            "  'setting alpha = %.1e' % _ALPHA_MIN)\n"
          ],
          "name": "stderr"
        },
        {
          "output_type": "stream",
          "text": [
            "Alpha: 0.00  Score: 0.90484\n",
            "Alpha: 0.01  Score: 0.94914\n",
            "Alpha: 0.02  Score: 0.94586\n",
            "Alpha: 0.03  Score: 0.93820\n",
            "Alpha: 0.04  Score: 0.93218\n",
            "Alpha: 0.05  Score: 0.92480\n",
            "Alpha: 0.06  Score: 0.91824\n",
            "Alpha: 0.07  Score: 0.91140\n",
            "Alpha: 0.08  Score: 0.90566\n",
            "Alpha: 0.09  Score: 0.90046\n"
          ],
          "name": "stdout"
        }
      ]
    },
    {
      "cell_type": "code",
      "metadata": {
        "id": "AuDKI_urak-C",
        "colab": {
          "base_uri": "https://localhost:8080/",
          "height": 507
        },
        "outputId": "d7502c5a-3b87-4801-e46a-3b15a5048cd0"
      },
      "source": [
        "# Let's run the optimized model with best value of hyperparameter and check the confusion matrix\n",
        "\n",
        "nb_classifier = MultinomialNB(alpha = 0.01)\n",
        "nb_classifier.fit(tfidf_train, y_train)\n",
        "pred_nb_tfidf = nb_classifier.predict(tfidf_test)\n",
        "cm2 = metrics.confusion_matrix(y_test, pred_nb_tfidf, labels=[0,1])\n",
        "print(f\"Classification Report : \\n\\n{classification_report(y_test, pred_nb_tfidf)}\")\n",
        "plot_confusion_matrix(cm2, classes=['TRUE','FAKE'], title ='Confusion matrix for a MultinomialNB with Tf-IDF')\n"
      ],
      "execution_count": 22,
      "outputs": [
        {
          "output_type": "stream",
          "text": [
            "Classification Report : \n",
            "\n",
            "              precision    recall  f1-score   support\n",
            "\n",
            "           0       0.92      0.99      0.96      2040\n",
            "           1       0.99      0.89      0.94      1617\n",
            "\n",
            "    accuracy                           0.95      3657\n",
            "   macro avg       0.96      0.94      0.95      3657\n",
            "weighted avg       0.95      0.95      0.95      3657\n",
            "\n"
          ],
          "name": "stdout"
        },
        {
          "output_type": "display_data",
          "data": {
            "image/png": "[encoded data removed]",
            "text/plain": [
              "<Figure size 432x288 with 2 Axes>"
            ]
          },
          "metadata": {
            "tags": [],
            "needs_background": "light"
          }
        }
      ]
    },
    {
      "cell_type": "markdown",
      "metadata": {
        "id": "xPsX4CPmbPZt"
      },
      "source": [
        "This confusion matrix above confirms that this new model not thaat better (and its accuracy score is 87.77 %). However, too many fake news are labeled as true news and it increases in this one. Let's try with another model called PassiveAgressive Classifier which is special for text classification purposes."
      ]
    },
    {
      "cell_type": "markdown",
      "metadata": {
        "id": "ycYkERL8cEMh"
      },
      "source": [
        "**Second NLP Algorithm**\n",
        "\n",
        "\n",
        "*   **Passive Agressive Classifier With Count Vectorizerr**\n",
        "\n"
      ]
    },
    {
      "cell_type": "code",
      "metadata": {
        "id": "zZFCnq74axTy",
        "colab": {
          "base_uri": "https://localhost:8080/",
          "height": 524
        },
        "outputId": "1bbff49d-96a1-40cb-d2c2-9d4d16d4acd5"
      },
      "source": [
        "linear_classifier = PassiveAggressiveClassifier(max_iter=500)\n",
        "linear_classifier.fit(count_train, y_train)\n",
        "pred_linear_count = linear_classifier.predict(count_test)\n",
        "acc_linear_count = metrics.accuracy_score(y_test, pred_linear_count)\n",
        "print(\"Passive Agressive Classifier with Count Vectorizer : \" ,acc_linear_count)\n",
        "print(f\"Classification Report : \\n\\n{classification_report(y_test, pred_linear_count)}\")\n",
        "cm6 = metrics.confusion_matrix(y_test, pred_linear_count, labels=[0,1])\n",
        "plot_confusion_matrix(cm6, classes=['TRUE','FAKE'], title ='Confusion matrix for a PA Classifier with Count Vectorizer')\n"
      ],
      "execution_count": 23,
      "outputs": [
        {
          "output_type": "stream",
          "text": [
            "Passive Agressive Classifier with Count Vectorizer :  0.9734755263877495\n",
            "Classification Report : \n",
            "\n",
            "              precision    recall  f1-score   support\n",
            "\n",
            "           0       0.98      0.98      0.98      2040\n",
            "           1       0.97      0.97      0.97      1617\n",
            "\n",
            "    accuracy                           0.97      3657\n",
            "   macro avg       0.97      0.97      0.97      3657\n",
            "weighted avg       0.97      0.97      0.97      3657\n",
            "\n"
          ],
          "name": "stdout"
        },
        {
          "output_type": "display_data",
          "data": {
            "image/png": "[encoded data removed]",
            "text/plain": [
              "<Figure size 432x288 with 2 Axes>"
            ]
          },
          "metadata": {
            "tags": [],
            "needs_background": "light"
          }
        }
      ]
    },
    {
      "cell_type": "markdown",
      "metadata": {
        "id": "CrXmdJs5cmoh"
      },
      "source": [
        "We get much better results than with the MultinomialNB model, both in terms of accuracy and in terms of false negative. Only 38 fake news were labeled as true news this time.\n",
        "\n",
        "But the 198 ture news were labeled as fake news and this count increases in this method. Let's try with the Tf-IDF method."
      ]
    },
    {
      "cell_type": "markdown",
      "metadata": {
        "id": "k2yEP_vNdGwC"
      },
      "source": [
        "\n",
        "\n",
        "*   **Passive Agressive Classifier With TF-IDF Vectorizer**\n",
        "\n"
      ]
    },
    {
      "cell_type": "code",
      "metadata": {
        "id": "iG6ICDD3cfrK",
        "colab": {
          "base_uri": "https://localhost:8080/",
          "height": 524
        },
        "outputId": "59fff7ee-11ff-4a0f-d4da-0d3dd01af5e7"
      },
      "source": [
        "linear_classifier = PassiveAggressiveClassifier(max_iter=500)\n",
        "linear_classifier.fit(tfidf_train, y_train)\n",
        "pred_linear_tfidf = linear_classifier.predict(tfidf_test)\n",
        "acc_linear_tfidf = metrics.accuracy_score(y_test, pred_linear_tfidf)\n",
        "print(\"Passive Agressive Classifier with TF-IDF : \" ,acc_linear_tfidf)\n",
        "print(f\"Classification Report : \\n\\n{classification_report(y_test, pred_linear_tfidf)}\")\n",
        "cm5 = metrics.confusion_matrix(y_test, pred_linear_tfidf, labels=[0,1])\n",
        "plot_confusion_matrix(cm5, classes=['TRUE','FAKE'], title ='Confusion matrix for a PA Classifier with Tf-IDF')"
      ],
      "execution_count": 24,
      "outputs": [
        {
          "output_type": "stream",
          "text": [
            "Passive Agressive Classifier with TF-IDF :  0.9797648345638501\n",
            "Classification Report : \n",
            "\n",
            "              precision    recall  f1-score   support\n",
            "\n",
            "           0       0.97      0.99      0.98      2040\n",
            "           1       0.99      0.97      0.98      1617\n",
            "\n",
            "    accuracy                           0.98      3657\n",
            "   macro avg       0.98      0.98      0.98      3657\n",
            "weighted avg       0.98      0.98      0.98      3657\n",
            "\n"
          ],
          "name": "stdout"
        },
        {
          "output_type": "display_data",
          "data": {
            "image/png": "[encoded data removed]",
            "text/plain": [
              "<Figure size 432x288 with 2 Axes>"
            ]
          },
          "metadata": {
            "tags": [],
            "needs_background": "light"
          }
        }
      ]
    },
    {
      "cell_type": "markdown",
      "metadata": {
        "id": "Thfy1xYXdVZM"
      },
      "source": [
        "Although we observe more false negative, the overall accuracy is much better, hence so far this is our best model. Let's try with Logistic Regression now!"
      ]
    },
    {
      "cell_type": "markdown",
      "metadata": {
        "id": "dkTCeHmcdcEP"
      },
      "source": [
        "**Third NLP Algorithm**\n",
        "\n",
        "*   **Logistic Regression with CountVectorizer**\n",
        "\n"
      ]
    },
    {
      "cell_type": "code",
      "metadata": {
        "id": "-kS5wRMOdOF4",
        "colab": {
          "base_uri": "https://localhost:8080/",
          "height": 524
        },
        "outputId": "cd113340-5b7f-42a2-8858-13621bbc4ca5"
      },
      "source": [
        "logreg = LogisticRegression(C=0.05)\n",
        "logreg.fit(count_train, y_train)\n",
        "pred_logreg_count = logreg.predict(count_test)\n",
        "acc_logreg_count = metrics.accuracy_score(y_test,pred_logreg_count)\n",
        "print(\"Logistic Regression with Count Vectorizer : \" ,acc_logreg_count)\n",
        "print(f\"Classification Report : \\n\\n{classification_report(y_test,pred_logreg_count)}\")\n",
        "cm3 = metrics.confusion_matrix(y_test, pred_logreg_count, labels=[0,1])\n",
        "plot_confusion_matrix(cm3, classes=['TRUE','FAKE'], title ='Confusion matrix for a Logistic Regression with Count Vectorizer')"
      ],
      "execution_count": 25,
      "outputs": [
        {
          "output_type": "stream",
          "text": [
            "Logistic Regression with Count Vectorizer :  0.9786710418375718\n",
            "Classification Report : \n",
            "\n",
            "              precision    recall  f1-score   support\n",
            "\n",
            "           0       0.98      0.98      0.98      2040\n",
            "           1       0.98      0.97      0.98      1617\n",
            "\n",
            "    accuracy                           0.98      3657\n",
            "   macro avg       0.98      0.98      0.98      3657\n",
            "weighted avg       0.98      0.98      0.98      3657\n",
            "\n"
          ],
          "name": "stdout"
        },
        {
          "output_type": "display_data",
          "data": {
            "image/png": "[encoded data removed]",
            "text/plain": [
              "<Figure size 432x288 with 2 Axes>"
            ]
          },
          "metadata": {
            "tags": [],
            "needs_background": "light"
          }
        }
      ]
    },
    {
      "cell_type": "code",
      "metadata": {
        "id": "LfvFAwqDdnJT",
        "colab": {
          "base_uri": "https://localhost:8080/",
          "height": 524
        },
        "outputId": "8573b361-2ba9-459a-a0ff-2913eddc4ab5"
      },
      "source": [
        "logreg = LogisticRegression(C=1e6)\n",
        "logreg.fit(tfidf_train, y_train)\n",
        "pred_logreg_tfidf = logreg.predict(tfidf_test)\n",
        "pred_logreg_tfidf_proba = logreg.predict_proba(tfidf_test)[:,1]\n",
        "acc_logreg_tfidf = metrics.accuracy_score(y_test,pred_logreg_tfidf)\n",
        "print(\"Logistic Regression with TF-IDF : \" ,acc_logreg_tfidf)\n",
        "print(f\"Classification Report : \\n\\n{classification_report(y_test,pred_logreg_tfidf)}\")\n",
        "cm4 = metrics.confusion_matrix(y_test, pred_logreg_tfidf, labels=[0,1])\n",
        "plot_confusion_matrix(cm4, classes=['TRUE','FAKE'], title ='Confusion matrix for a Logistic Regression with Tf-IDF')"
      ],
      "execution_count": 26,
      "outputs": [
        {
          "output_type": "stream",
          "text": [
            "Logistic Regression with TF-IDF :  0.9783975936560022\n",
            "Classification Report : \n",
            "\n",
            "              precision    recall  f1-score   support\n",
            "\n",
            "           0       0.97      0.99      0.98      2040\n",
            "           1       0.99      0.96      0.98      1617\n",
            "\n",
            "    accuracy                           0.98      3657\n",
            "   macro avg       0.98      0.98      0.98      3657\n",
            "weighted avg       0.98      0.98      0.98      3657\n",
            "\n"
          ],
          "name": "stdout"
        },
        {
          "output_type": "display_data",
          "data": {
            "image/png": "[encoded data removed]",
            "text/plain": [
              "<Figure size 432x288 with 2 Axes>"
            ]
          },
          "metadata": {
            "tags": [],
            "needs_background": "light"
          }
        }
      ]
    },
    {
      "cell_type": "markdown",
      "metadata": {
        "id": "Nn6BXrow5Eq5"
      },
      "source": [
        "**CLASSIFYING FAKE NEWS USING LSTM & RNN**"
      ]
    },
    {
      "cell_type": "code",
      "metadata": {
        "id": "zBBUGwxmdswX",
        "colab": {
          "base_uri": "https://localhost:8080/"
        },
        "outputId": "5cb40cb7-7df0-45e9-826d-bb1690ebb03e"
      },
      "source": [
        "#importing libraries\n",
        "import re\n",
        "import matplotlib.pyplot as plt\n",
        "from tensorflow.keras.layers import Embedding,LSTM,Dense,Dropout\n",
        "from tensorflow.keras.preprocessing.sequence import pad_sequences\n",
        "from tensorflow.keras.models import Sequential\n",
        "from tensorflow.keras.preprocessing.text import one_hot\n",
        "from nltk.stem.porter import PorterStemmer\n",
        "from nltk.corpus import stopwords\n",
        "import tensorflow as tf\n",
        "from tensorflow import keras\n",
        "from tensorflow.keras import layers\n",
        "import nltk\n",
        "nltk.download('stopwords')\n",
        "nltk.download('punkt')\n",
        "from nltk.tokenize import word_tokenize"
      ],
      "execution_count": 19,
      "outputs": [
        {
          "output_type": "stream",
          "text": [
            "[nltk_data] Downloading package stopwords to /root/nltk_data...\n",
            "[nltk_data]   Package stopwords is already up-to-date!\n",
            "[nltk_data] Downloading package punkt to /root/nltk_data...\n",
            "[nltk_data]   Package punkt is already up-to-date!\n"
          ],
          "name": "stdout"
        }
      ]
    },
    {
      "cell_type": "code",
      "metadata": {
        "colab": {
          "base_uri": "https://localhost:8080/",
          "height": 204
        },
        "id": "Ivb3dlpLPc1P",
        "outputId": "0b2504a6-b4a0-48dd-d27d-1b5a497c8cdc"
      },
      "source": [
        "test['total']=test['title']+' '+test['author']\n",
        "train['total']=train['title']+' '+train['author']\n",
        "\n",
        "train.head()"
      ],
      "execution_count": 20,
      "outputs": [
        {
          "output_type": "execute_result",
          "data": {
            "text/html": [
              "<div>\n",
              "<style scoped>\n",
              "    .dataframe tbody tr th:only-of-type {\n",
              "        vertical-align: middle;\n",
              "    }\n",
              "\n",
              "    .dataframe tbody tr th {\n",
              "        vertical-align: top;\n",
              "    }\n",
              "\n",
              "    .dataframe thead th {\n",
              "        text-align: right;\n",
              "    }\n",
              "</style>\n",
              "<table border=\"1\" class=\"dataframe\">\n",
              "  <thead>\n",
              "    <tr style=\"text-align: right;\">\n",
              "      <th></th>\n",
              "      <th>id</th>\n",
              "      <th>title</th>\n",
              "      <th>author</th>\n",
              "      <th>text</th>\n",
              "      <th>label</th>\n",
              "      <th>total</th>\n",
              "    </tr>\n",
              "  </thead>\n",
              "  <tbody>\n",
              "    <tr>\n",
              "      <th>0</th>\n",
              "      <td>0</td>\n",
              "      <td>House Dem Aide: We Didn’t Even See Comey’s Let...</td>\n",
              "      <td>Darrell Lucus</td>\n",
              "      <td>House Dem Aide: We Didn’t Even See Comey’s Let...</td>\n",
              "      <td>1</td>\n",
              "      <td>House Dem Aide: We Didn’t Even See Comey’s Let...</td>\n",
              "    </tr>\n",
              "    <tr>\n",
              "      <th>1</th>\n",
              "      <td>1</td>\n",
              "      <td>FLYNN: Hillary Clinton, Big Woman on Campus - ...</td>\n",
              "      <td>Daniel J. Flynn</td>\n",
              "      <td>Ever get the feeling your life circles the rou...</td>\n",
              "      <td>0</td>\n",
              "      <td>FLYNN: Hillary Clinton, Big Woman on Campus - ...</td>\n",
              "    </tr>\n",
              "    <tr>\n",
              "      <th>2</th>\n",
              "      <td>2</td>\n",
              "      <td>Why the Truth Might Get You Fired</td>\n",
              "      <td>Consortiumnews.com</td>\n",
              "      <td>Why the Truth Might Get You Fired October 29, ...</td>\n",
              "      <td>1</td>\n",
              "      <td>Why the Truth Might Get You Fired Consortiumne...</td>\n",
              "    </tr>\n",
              "    <tr>\n",
              "      <th>3</th>\n",
              "      <td>3</td>\n",
              "      <td>15 Civilians Killed In Single US Airstrike Hav...</td>\n",
              "      <td>Jessica Purkiss</td>\n",
              "      <td>Videos 15 Civilians Killed In Single US Airstr...</td>\n",
              "      <td>1</td>\n",
              "      <td>15 Civilians Killed In Single US Airstrike Hav...</td>\n",
              "    </tr>\n",
              "    <tr>\n",
              "      <th>4</th>\n",
              "      <td>4</td>\n",
              "      <td>Iranian woman jailed for fictional unpublished...</td>\n",
              "      <td>Howard Portnoy</td>\n",
              "      <td>Print \\nAn Iranian woman has been sentenced to...</td>\n",
              "      <td>1</td>\n",
              "      <td>Iranian woman jailed for fictional unpublished...</td>\n",
              "    </tr>\n",
              "  </tbody>\n",
              "</table>\n",
              "</div>"
            ],
            "text/plain": [
              "   id  ...                                              total\n",
              "0   0  ...  House Dem Aide: We Didn’t Even See Comey’s Let...\n",
              "1   1  ...  FLYNN: Hillary Clinton, Big Woman on Campus - ...\n",
              "2   2  ...  Why the Truth Might Get You Fired Consortiumne...\n",
              "3   3  ...  15 Civilians Killed In Single US Airstrike Hav...\n",
              "4   4  ...  Iranian woman jailed for fictional unpublished...\n",
              "\n",
              "[5 rows x 6 columns]"
            ]
          },
          "metadata": {
            "tags": []
          },
          "execution_count": 20
        }
      ]
    },
    {
      "cell_type": "code",
      "metadata": {
        "colab": {
          "base_uri": "https://localhost:8080/"
        },
        "id": "9PoOewHKcEak",
        "outputId": "e417609c-6e7f-43aa-88a9-943b1b288bed"
      },
      "source": [
        "train.isnull().sum()"
      ],
      "execution_count": 21,
      "outputs": [
        {
          "output_type": "execute_result",
          "data": {
            "text/plain": [
              "id        0\n",
              "title     0\n",
              "author    0\n",
              "text      0\n",
              "label     0\n",
              "total     0\n",
              "dtype: int64"
            ]
          },
          "metadata": {
            "tags": []
          },
          "execution_count": 21
        }
      ]
    },
    {
      "cell_type": "code",
      "metadata": {
        "colab": {
          "base_uri": "https://localhost:8080/"
        },
        "id": "mhtYfsNRcIow",
        "outputId": "2ffc48da-c16c-4314-b249-4e012209a79c"
      },
      "source": [
        "train = train.dropna()\n",
        "train.isnull().sum()"
      ],
      "execution_count": 22,
      "outputs": [
        {
          "output_type": "execute_result",
          "data": {
            "text/plain": [
              "id        0\n",
              "title     0\n",
              "author    0\n",
              "text      0\n",
              "label     0\n",
              "total     0\n",
              "dtype: int64"
            ]
          },
          "metadata": {
            "tags": []
          },
          "execution_count": 22
        }
      ]
    },
    {
      "cell_type": "code",
      "metadata": {
        "colab": {
          "base_uri": "https://localhost:8080/",
          "height": 204
        },
        "id": "KMP0o_N5cPd5",
        "outputId": "4f061614-11fc-49d9-d504-5df1b4e2f518"
      },
      "source": [
        "train.reset_index(inplace = True,drop = True)\n",
        "train.head()"
      ],
      "execution_count": 23,
      "outputs": [
        {
          "output_type": "execute_result",
          "data": {
            "text/html": [
              "<div>\n",
              "<style scoped>\n",
              "    .dataframe tbody tr th:only-of-type {\n",
              "        vertical-align: middle;\n",
              "    }\n",
              "\n",
              "    .dataframe tbody tr th {\n",
              "        vertical-align: top;\n",
              "    }\n",
              "\n",
              "    .dataframe thead th {\n",
              "        text-align: right;\n",
              "    }\n",
              "</style>\n",
              "<table border=\"1\" class=\"dataframe\">\n",
              "  <thead>\n",
              "    <tr style=\"text-align: right;\">\n",
              "      <th></th>\n",
              "      <th>id</th>\n",
              "      <th>title</th>\n",
              "      <th>author</th>\n",
              "      <th>text</th>\n",
              "      <th>label</th>\n",
              "      <th>total</th>\n",
              "    </tr>\n",
              "  </thead>\n",
              "  <tbody>\n",
              "    <tr>\n",
              "      <th>0</th>\n",
              "      <td>0</td>\n",
              "      <td>House Dem Aide: We Didn’t Even See Comey’s Let...</td>\n",
              "      <td>Darrell Lucus</td>\n",
              "      <td>House Dem Aide: We Didn’t Even See Comey’s Let...</td>\n",
              "      <td>1</td>\n",
              "      <td>House Dem Aide: We Didn’t Even See Comey’s Let...</td>\n",
              "    </tr>\n",
              "    <tr>\n",
              "      <th>1</th>\n",
              "      <td>1</td>\n",
              "      <td>FLYNN: Hillary Clinton, Big Woman on Campus - ...</td>\n",
              "      <td>Daniel J. Flynn</td>\n",
              "      <td>Ever get the feeling your life circles the rou...</td>\n",
              "      <td>0</td>\n",
              "      <td>FLYNN: Hillary Clinton, Big Woman on Campus - ...</td>\n",
              "    </tr>\n",
              "    <tr>\n",
              "      <th>2</th>\n",
              "      <td>2</td>\n",
              "      <td>Why the Truth Might Get You Fired</td>\n",
              "      <td>Consortiumnews.com</td>\n",
              "      <td>Why the Truth Might Get You Fired October 29, ...</td>\n",
              "      <td>1</td>\n",
              "      <td>Why the Truth Might Get You Fired Consortiumne...</td>\n",
              "    </tr>\n",
              "    <tr>\n",
              "      <th>3</th>\n",
              "      <td>3</td>\n",
              "      <td>15 Civilians Killed In Single US Airstrike Hav...</td>\n",
              "      <td>Jessica Purkiss</td>\n",
              "      <td>Videos 15 Civilians Killed In Single US Airstr...</td>\n",
              "      <td>1</td>\n",
              "      <td>15 Civilians Killed In Single US Airstrike Hav...</td>\n",
              "    </tr>\n",
              "    <tr>\n",
              "      <th>4</th>\n",
              "      <td>4</td>\n",
              "      <td>Iranian woman jailed for fictional unpublished...</td>\n",
              "      <td>Howard Portnoy</td>\n",
              "      <td>Print \\nAn Iranian woman has been sentenced to...</td>\n",
              "      <td>1</td>\n",
              "      <td>Iranian woman jailed for fictional unpublished...</td>\n",
              "    </tr>\n",
              "  </tbody>\n",
              "</table>\n",
              "</div>"
            ],
            "text/plain": [
              "   id  ...                                              total\n",
              "0   0  ...  House Dem Aide: We Didn’t Even See Comey’s Let...\n",
              "1   1  ...  FLYNN: Hillary Clinton, Big Woman on Campus - ...\n",
              "2   2  ...  Why the Truth Might Get You Fired Consortiumne...\n",
              "3   3  ...  15 Civilians Killed In Single US Airstrike Hav...\n",
              "4   4  ...  Iranian woman jailed for fictional unpublished...\n",
              "\n",
              "[5 rows x 6 columns]"
            ]
          },
          "metadata": {
            "tags": []
          },
          "execution_count": 23
        }
      ]
    },
    {
      "cell_type": "code",
      "metadata": {
        "id": "1S9LFV7e5SZH"
      },
      "source": [
        "#defining dependent and independent vectors\n",
        "#taking only total for prediction\n",
        "x = train.iloc[:,5:]\n",
        "y = train['label']"
      ],
      "execution_count": 24,
      "outputs": []
    },
    {
      "cell_type": "code",
      "metadata": {
        "id": "-ExE9uOB6Fvf",
        "colab": {
          "base_uri": "https://localhost:8080/",
          "height": 419
        },
        "outputId": "4368c29b-7144-4583-f71e-a1e42be8fe15"
      },
      "source": [
        "x"
      ],
      "execution_count": 25,
      "outputs": [
        {
          "output_type": "execute_result",
          "data": {
            "text/html": [
              "<div>\n",
              "<style scoped>\n",
              "    .dataframe tbody tr th:only-of-type {\n",
              "        vertical-align: middle;\n",
              "    }\n",
              "\n",
              "    .dataframe tbody tr th {\n",
              "        vertical-align: top;\n",
              "    }\n",
              "\n",
              "    .dataframe thead th {\n",
              "        text-align: right;\n",
              "    }\n",
              "</style>\n",
              "<table border=\"1\" class=\"dataframe\">\n",
              "  <thead>\n",
              "    <tr style=\"text-align: right;\">\n",
              "      <th></th>\n",
              "      <th>total</th>\n",
              "    </tr>\n",
              "  </thead>\n",
              "  <tbody>\n",
              "    <tr>\n",
              "      <th>0</th>\n",
              "      <td>House Dem Aide: We Didn’t Even See Comey’s Let...</td>\n",
              "    </tr>\n",
              "    <tr>\n",
              "      <th>1</th>\n",
              "      <td>FLYNN: Hillary Clinton, Big Woman on Campus - ...</td>\n",
              "    </tr>\n",
              "    <tr>\n",
              "      <th>2</th>\n",
              "      <td>Why the Truth Might Get You Fired Consortiumne...</td>\n",
              "    </tr>\n",
              "    <tr>\n",
              "      <th>3</th>\n",
              "      <td>15 Civilians Killed In Single US Airstrike Hav...</td>\n",
              "    </tr>\n",
              "    <tr>\n",
              "      <th>4</th>\n",
              "      <td>Iranian woman jailed for fictional unpublished...</td>\n",
              "    </tr>\n",
              "    <tr>\n",
              "      <th>...</th>\n",
              "      <td>...</td>\n",
              "    </tr>\n",
              "    <tr>\n",
              "      <th>18280</th>\n",
              "      <td>Rapper T.I.: Trump a ’Poster Child For White S...</td>\n",
              "    </tr>\n",
              "    <tr>\n",
              "      <th>18281</th>\n",
              "      <td>N.F.L. Playoffs: Schedule, Matchups and Odds -...</td>\n",
              "    </tr>\n",
              "    <tr>\n",
              "      <th>18282</th>\n",
              "      <td>Macy’s Is Said to Receive Takeover Approach by...</td>\n",
              "    </tr>\n",
              "    <tr>\n",
              "      <th>18283</th>\n",
              "      <td>NATO, Russia To Hold Parallel Exercises In Bal...</td>\n",
              "    </tr>\n",
              "    <tr>\n",
              "      <th>18284</th>\n",
              "      <td>What Keeps the F-35 Alive David Swanson</td>\n",
              "    </tr>\n",
              "  </tbody>\n",
              "</table>\n",
              "<p>18285 rows × 1 columns</p>\n",
              "</div>"
            ],
            "text/plain": [
              "                                                   total\n",
              "0      House Dem Aide: We Didn’t Even See Comey’s Let...\n",
              "1      FLYNN: Hillary Clinton, Big Woman on Campus - ...\n",
              "2      Why the Truth Might Get You Fired Consortiumne...\n",
              "3      15 Civilians Killed In Single US Airstrike Hav...\n",
              "4      Iranian woman jailed for fictional unpublished...\n",
              "...                                                  ...\n",
              "18280  Rapper T.I.: Trump a ’Poster Child For White S...\n",
              "18281  N.F.L. Playoffs: Schedule, Matchups and Odds -...\n",
              "18282  Macy’s Is Said to Receive Takeover Approach by...\n",
              "18283  NATO, Russia To Hold Parallel Exercises In Bal...\n",
              "18284            What Keeps the F-35 Alive David Swanson\n",
              "\n",
              "[18285 rows x 1 columns]"
            ]
          },
          "metadata": {
            "tags": []
          },
          "execution_count": 25
        }
      ]
    },
    {
      "cell_type": "code",
      "metadata": {
        "id": "uuPR9aqN6onY"
      },
      "source": [
        "#Text Cleaning and preprocessing\n",
        "\n",
        "cleaned = []\n",
        "for i in range(0,len(train)):\n",
        "    \n",
        "    #removing words any other than (a-z) and (A-Z)\n",
        "    text = re.sub('[^a-zA-Z]',' ', x['total'][i])\n",
        "    \n",
        "    #converting all words into lower case\n",
        "    text = text.lower()\n",
        "    \n",
        "    #tokenizing \n",
        "    text = text.split()\n",
        "    \n",
        "    #stemming and removing stopwords\n",
        "    ps = PorterStemmer()\n",
        "    text = [ps.stem(words) for words in text if words not in stopwords.words('english')]\n",
        "    text = ' '.join(text)\n",
        "    cleaned.append(text)\n",
        "\n",
        "                        \n",
        "      "
      ],
      "execution_count": 26,
      "outputs": []
    },
    {
      "cell_type": "code",
      "metadata": {
        "id": "L2L24sp6659v",
        "colab": {
          "base_uri": "https://localhost:8080/"
        },
        "outputId": "cf36303d-bf44-4782-f97f-4a3f3c4cfe61"
      },
      "source": [
        "#cleaned text\n",
        "cleaned[:5]"
      ],
      "execution_count": 27,
      "outputs": [
        {
          "output_type": "execute_result",
          "data": {
            "text/plain": [
              "['hous dem aid even see comey letter jason chaffetz tweet darrel lucu',\n",
              " 'flynn hillari clinton big woman campu breitbart daniel j flynn',\n",
              " 'truth might get fire consortiumnew com',\n",
              " 'civilian kill singl us airstrik identifi jessica purkiss',\n",
              " 'iranian woman jail fiction unpublish stori woman stone death adulteri howard portnoy']"
            ]
          },
          "metadata": {
            "tags": []
          },
          "execution_count": 27
        }
      ]
    },
    {
      "cell_type": "code",
      "metadata": {
        "colab": {
          "base_uri": "https://localhost:8080/"
        },
        "id": "ehOBg3bsedl9",
        "outputId": "05431fd7-00c6-460b-eea3-223e4129a507"
      },
      "source": [
        "#taking dictionary size 5000\n",
        "vocab_size = 5000\n",
        "\n",
        "#one hot encoding\n",
        "one_hot_dir = [one_hot(words,vocab_size) for words in cleaned]\n",
        "\n",
        "#length of all rows should be equal therefore applying padding\n",
        "#this will adjust size by adding 0 at staring of the shorter rows\n",
        "embedded_layer = pad_sequences(one_hot_dir,padding = 'pre')\n",
        "embedded_layer"
      ],
      "execution_count": 28,
      "outputs": [
        {
          "output_type": "execute_result",
          "data": {
            "text/plain": [
              "array([[   0,    0,    0, ..., 1215, 1217, 1531],\n",
              "       [   0,    0,    0, ..., 2233, 4636, 3276],\n",
              "       [   0,    0,    0, ..., 1114, 2931,  347],\n",
              "       ...,\n",
              "       [   0,    0,    0, ..., 1791, 2503, 4270],\n",
              "       [   0,    0,    0, ...,  346, 1952, 1479],\n",
              "       [   0,    0,    0, ..., 4768, 3528, 3421]], dtype=int32)"
            ]
          },
          "metadata": {
            "tags": []
          },
          "execution_count": 28
        }
      ]
    },
    {
      "cell_type": "code",
      "metadata": {
        "id": "XvUIqfuhee0v"
      },
      "source": [
        "#converting into numpy arrays.\n",
        "x = np.array(embedded_layer)\n",
        "y = np.array(y)"
      ],
      "execution_count": 29,
      "outputs": []
    },
    {
      "cell_type": "code",
      "metadata": {
        "id": "GJe-fqh5em8x"
      },
      "source": [
        "#splitting the Dataset into Train and Test set\n",
        "from sklearn.model_selection import train_test_split\n",
        "x_train,x_test,y_train,y_test=train_test_split(x,y,test_size=0.2,random_state=0)"
      ],
      "execution_count": 30,
      "outputs": []
    },
    {
      "cell_type": "markdown",
      "metadata": {
        "id": "6yhkN0K8N6UP"
      },
      "source": [
        "**RNN Implementaion - Shallow neural n/w**"
      ]
    },
    {
      "cell_type": "code",
      "metadata": {
        "colab": {
          "base_uri": "https://localhost:8080/"
        },
        "id": "gdYqs9moN3vr",
        "outputId": "37836d61-c1f9-4e86-96ab-9456ae7380d8"
      },
      "source": [
        "model = Sequential()\n",
        "\n",
        "#taking number features as 50\n",
        "model.add(Embedding(vocab_size,50,input_length = len(embedded_layer[0])))\n",
        "model.add(Dropout(0.5))\n",
        "\n",
        "# The output of GRU will be a 3D tensor of shape (batch_size, timesteps, 256)\n",
        "model.add(layers.GRU(256, return_sequences=True))\n",
        "\n",
        "# The output of SimpleRNN will be a 2D tensor of shape (batch_size, 128)\n",
        "model.add(layers.SimpleRNN(128))\n",
        "\n",
        "model.add(layers.Dense(1))\n",
        "\n",
        "model.summary()\n",
        "\n",
        "#compiling the model\n",
        "model.compile(loss=\"binary_crossentropy\",optimizer=\"adam\",metrics=[\"accuracy\"])"
      ],
      "execution_count": 31,
      "outputs": [
        {
          "output_type": "stream",
          "text": [
            "Model: \"sequential\"\n",
            "_________________________________________________________________\n",
            "Layer (type)                 Output Shape              Param #   \n",
            "=================================================================\n",
            "embedding (Embedding)        (None, 51, 50)            250000    \n",
            "_________________________________________________________________\n",
            "dropout (Dropout)            (None, 51, 50)            0         \n",
            "_________________________________________________________________\n",
            "gru (GRU)                    (None, 51, 256)           236544    \n",
            "_________________________________________________________________\n",
            "simple_rnn (SimpleRNN)       (None, 128)               49280     \n",
            "_________________________________________________________________\n",
            "dense (Dense)                (None, 1)                 129       \n",
            "=================================================================\n",
            "Total params: 535,953\n",
            "Trainable params: 535,953\n",
            "Non-trainable params: 0\n",
            "_________________________________________________________________\n"
          ],
          "name": "stdout"
        }
      ]
    },
    {
      "cell_type": "code",
      "metadata": {
        "colab": {
          "base_uri": "https://localhost:8080/"
        },
        "id": "WtJ0v8GlSr2z",
        "outputId": "c4788761-ea72-41ea-afe0-be4825616e0a"
      },
      "source": [
        "#training the model\n",
        "model.fit(x_train, y_train, validation_data = (x_test,y_test), epochs = 5, batch_size = 32)"
      ],
      "execution_count": 32,
      "outputs": [
        {
          "output_type": "stream",
          "text": [
            "Epoch 1/5\n",
            "458/458 [==============================] - 77s 162ms/step - loss: 0.2741 - accuracy: 0.9299 - val_loss: 0.0545 - val_accuracy: 0.9885\n",
            "Epoch 2/5\n",
            "458/458 [==============================] - 74s 162ms/step - loss: 0.0778 - accuracy: 0.9890 - val_loss: 0.0486 - val_accuracy: 0.9934\n",
            "Epoch 3/5\n",
            "458/458 [==============================] - 75s 164ms/step - loss: 0.0451 - accuracy: 0.9932 - val_loss: 0.0456 - val_accuracy: 0.9943\n",
            "Epoch 4/5\n",
            "458/458 [==============================] - 75s 163ms/step - loss: 0.0330 - accuracy: 0.9960 - val_loss: 0.0335 - val_accuracy: 0.9959\n",
            "Epoch 5/5\n",
            "458/458 [==============================] - 75s 165ms/step - loss: 0.0289 - accuracy: 0.9972 - val_loss: 0.0762 - val_accuracy: 0.9932\n"
          ],
          "name": "stdout"
        },
        {
          "output_type": "execute_result",
          "data": {
            "text/plain": [
              "<tensorflow.python.keras.callbacks.History at 0x7f4356d1a490>"
            ]
          },
          "metadata": {
            "tags": []
          },
          "execution_count": 32
        }
      ]
    },
    {
      "cell_type": "code",
      "metadata": {
        "colab": {
          "base_uri": "https://localhost:8080/"
        },
        "id": "zX1URU75YJ_h",
        "outputId": "ec75d0b3-e63f-445a-ce6a-ea3131d0d73e"
      },
      "source": [
        "#predicting and getting accuracy\n",
        "y_pred = model.predict(x_test)\n",
        "y_pred = (y_pred > 0.5)\n",
        "from sklearn.metrics import accuracy_score\n",
        "accuracy_score(y_test,y_pred)"
      ],
      "execution_count": 33,
      "outputs": [
        {
          "output_type": "execute_result",
          "data": {
            "text/plain": [
              "0.9931637954607602"
            ]
          },
          "metadata": {
            "tags": []
          },
          "execution_count": 33
        }
      ]
    },
    {
      "cell_type": "code",
      "metadata": {
        "colab": {
          "base_uri": "https://localhost:8080/",
          "height": 329
        },
        "id": "sQjGvvs2YPEL",
        "outputId": "7b6aabcb-48c8-4b48-83ed-f9dd94e9a1d7"
      },
      "source": [
        "#getting confusion matrix\n",
        "from sklearn.metrics import confusion_matrix\n",
        "print(\"Accuracy Score : \", accuracy_score(y_test,y_pred))\n",
        "cm5 = metrics.confusion_matrix(y_test, y_pred, labels=[0,1])\n",
        "plot_confusion_matrix(cm5, classes=['TRUE','FAKE'], title ='\\nConfusion matrix for a Logistic Regression with Simple RNN\\n')"
      ],
      "execution_count": 38,
      "outputs": [
        {
          "output_type": "stream",
          "text": [
            "Accuracy Score :  0.9931637954607602\n"
          ],
          "name": "stdout"
        },
        {
          "output_type": "display_data",
          "data": {
            "image/png": "[encoded data removed]",
            "text/plain": [
              "<Figure size 432x288 with 2 Axes>"
            ]
          },
          "metadata": {
            "tags": [],
            "needs_background": "light"
          }
        }
      ]
    },
    {
      "cell_type": "markdown",
      "metadata": {
        "id": "-T03DztNN1pn"
      },
      "source": [
        "**LSTM Implementation**"
      ]
    },
    {
      "cell_type": "code",
      "metadata": {
        "id": "LZC7RTWYeql4"
      },
      "source": [
        "#creating model using LSTM\n",
        "model = Sequential()\n",
        "\n",
        "#taking number features as 50\n",
        "model.add(Embedding(vocab_size,50,input_length = len(embedded_layer[0])))\n",
        "model.add(Dropout(0.5))\n",
        "\n",
        "#adding LSTM layers with 100 neurons\n",
        "model.add(LSTM(128))\n",
        "model.add(Dropout(0.5))\n",
        "\n",
        "#adding output layer \n",
        "model.add(Dense(1,activation=\"sigmoid\"))\n",
        "\n",
        "#compiling the model\n",
        "model.compile(loss=\"binary_crossentropy\",optimizer=\"adam\",metrics=[\"accuracy\"])"
      ],
      "execution_count": 39,
      "outputs": []
    },
    {
      "cell_type": "code",
      "metadata": {
        "colab": {
          "base_uri": "https://localhost:8080/"
        },
        "id": "Z7c02_O6etcp",
        "outputId": "ea21113c-14d2-424f-ce1e-af75c216547f"
      },
      "source": [
        "#summary of model\n",
        "model.summary()"
      ],
      "execution_count": 40,
      "outputs": [
        {
          "output_type": "stream",
          "text": [
            "Model: \"sequential_1\"\n",
            "_________________________________________________________________\n",
            "Layer (type)                 Output Shape              Param #   \n",
            "=================================================================\n",
            "embedding_1 (Embedding)      (None, 51, 50)            250000    \n",
            "_________________________________________________________________\n",
            "dropout_1 (Dropout)          (None, 51, 50)            0         \n",
            "_________________________________________________________________\n",
            "lstm (LSTM)                  (None, 128)               91648     \n",
            "_________________________________________________________________\n",
            "dropout_2 (Dropout)          (None, 128)               0         \n",
            "_________________________________________________________________\n",
            "dense_1 (Dense)              (None, 1)                 129       \n",
            "=================================================================\n",
            "Total params: 341,777\n",
            "Trainable params: 341,777\n",
            "Non-trainable params: 0\n",
            "_________________________________________________________________\n"
          ],
          "name": "stdout"
        }
      ]
    },
    {
      "cell_type": "code",
      "metadata": {
        "colab": {
          "base_uri": "https://localhost:8080/"
        },
        "id": "QNGWvl5Levx3",
        "outputId": "4defb44f-dd47-4d00-8197-4d1f57008137"
      },
      "source": [
        "#training the model\n",
        "model.fit(x_train, y_train, validation_data = (x_test,y_test), epochs = 5, batch_size = 32)"
      ],
      "execution_count": 41,
      "outputs": [
        {
          "output_type": "stream",
          "text": [
            "Epoch 1/5\n",
            "458/458 [==============================] - 33s 68ms/step - loss: 0.1592 - accuracy: 0.9331 - val_loss: 0.0294 - val_accuracy: 0.9907\n",
            "Epoch 2/5\n",
            "458/458 [==============================] - 30s 66ms/step - loss: 0.0264 - accuracy: 0.9925 - val_loss: 0.0244 - val_accuracy: 0.9932\n",
            "Epoch 3/5\n",
            "458/458 [==============================] - 31s 67ms/step - loss: 0.0130 - accuracy: 0.9964 - val_loss: 0.0182 - val_accuracy: 0.9948\n",
            "Epoch 4/5\n",
            "458/458 [==============================] - 30s 66ms/step - loss: 0.0076 - accuracy: 0.9978 - val_loss: 0.0232 - val_accuracy: 0.9937\n",
            "Epoch 5/5\n",
            "458/458 [==============================] - 31s 68ms/step - loss: 0.0041 - accuracy: 0.9988 - val_loss: 0.0315 - val_accuracy: 0.9912\n"
          ],
          "name": "stdout"
        },
        {
          "output_type": "execute_result",
          "data": {
            "text/plain": [
              "<tensorflow.python.keras.callbacks.History at 0x7f4352867510>"
            ]
          },
          "metadata": {
            "tags": []
          },
          "execution_count": 41
        }
      ]
    },
    {
      "cell_type": "code",
      "metadata": {
        "colab": {
          "base_uri": "https://localhost:8080/"
        },
        "id": "UeA2baZJeyuS",
        "outputId": "ba8a33ac-a401-4f79-a3c6-0645d2d0b8a4"
      },
      "source": [
        "#predicting and getting accuracy\n",
        "y_pred = model.predict(x_test)\n",
        "y_pred = (y_pred > 0.5)\n",
        "from sklearn.metrics import accuracy_score\n",
        "accuracy_score(y_test,y_pred)"
      ],
      "execution_count": 42,
      "outputs": [
        {
          "output_type": "execute_result",
          "data": {
            "text/plain": [
              "0.9912496581897731"
            ]
          },
          "metadata": {
            "tags": []
          },
          "execution_count": 42
        }
      ]
    },
    {
      "cell_type": "code",
      "metadata": {
        "colab": {
          "base_uri": "https://localhost:8080/",
          "height": 329
        },
        "id": "2mj-4EYGe1Lc",
        "outputId": "963cc40b-3066-46aa-da3d-ed8837df7d52"
      },
      "source": [
        "#getting confusion matrix\n",
        "from sklearn.metrics import confusion_matrix\n",
        "print(\"Accuracy Score : \", accuracy_score(y_test,y_pred))\n",
        "cm5 = metrics.confusion_matrix(y_test, y_pred, labels=[0,1])\n",
        "plot_confusion_matrix(cm5, classes=['TRUE','FAKE'], title ='\\nConfusion matrix for a Logistic Regression with LSTM\\n')"
      ],
      "execution_count": 43,
      "outputs": [
        {
          "output_type": "stream",
          "text": [
            "Accuracy Score :  0.9912496581897731\n"
          ],
          "name": "stdout"
        },
        {
          "output_type": "display_data",
          "data": {
            "image/png": "[encoded data removed]",
            "text/plain": [
              "<Figure size 432x288 with 2 Axes>"
            ]
          },
          "metadata": {
            "tags": [],
            "needs_background": "light"
          }
        }
      ]
    },
    {
      "cell_type": "code",
      "metadata": {
        "id": "SyS6_eEZ95g3"
      },
      "source": [
        ""
      ],
      "execution_count": 81,
      "outputs": []
    },
    {
      "cell_type": "code",
      "metadata": {
        "id": "ac92TbtaNIoU"
      },
      "source": [
        ""
      ],
      "execution_count": null,
      "outputs": []
    }
  ]
}